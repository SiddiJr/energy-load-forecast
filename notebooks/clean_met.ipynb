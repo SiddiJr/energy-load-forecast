{
 "cells": [
  {
   "cell_type": "code",
   "execution_count": 120,
   "id": "175634bb-3167-417d-af00-d7156c409ed2",
   "metadata": {},
   "outputs": [],
   "source": [
    "import pandas as pd"
   ]
  },
  {
   "cell_type": "code",
   "execution_count": 121,
   "id": "c26a7d73-b408-4eac-b8f0-ad3cf9622f21",
   "metadata": {},
   "outputs": [],
   "source": [
    "jacarepagua = pd.read_csv('data/raw/dados_copacabana.csv', sep=';', header=9, decimal=',')\n",
    "jacarepagua = jacarepagua.drop(columns='Unnamed: 22')\n",
    "\n",
    "mirante = pd.read_csv('data/raw/dados_copacabana.csv', sep=';', header=9, decimal=',')\n",
    "mirante = mirante.drop(columns='Unnamed: 22')\n",
    "\n",
    "pampulha = pd.read_csv('data/raw/dados_copacabana.csv', sep=';', header=9, decimal=',')\n",
    "pampulha = pampulha.drop(columns='Unnamed: 22')"
   ]
  },
  {
   "cell_type": "code",
   "execution_count": 122,
   "id": "36da7a77-5347-42bf-947f-5569ee35be80",
   "metadata": {},
   "outputs": [],
   "source": [
    "old_col_name = jacarepagua.columns\n",
    "new_col_name = ['date', 'time', 'precipitation_total', 'atmospheric_pressure_station_level', 'atmospheric_pressure_sea_level', \n",
    "                'atmospheric_pressure_max_prev_hour', 'atmospheric_pressure_min_prev_hour', 'global_radiation',\n",
    "               'station_CPU_temp', 'air_temp_dry_bulb', 'dew_point_temp', 'max_temp_prev_hour', 'min_temp_prev_hour',\n",
    "               'max_dew_point_temp_prev_hour', 'min_dew_point_temp_prev_hour', 'station_battery_voltage', \n",
    "                'max_relative_humidity_prev_hour', 'min_relative_humidity_prev_hour', 'relative_humidity', 'wind_direction',\n",
    "               'wind_max_gust', 'wind_speed']\n",
    "jacarepagua = jacarepagua.rename(columns = dict(zip(old_col_name, new_col_name)))\n",
    "mirante = mirante.rename(columns = dict(zip(old_col_name, new_col_name)))\n",
    "pampulha = pampulha.rename(columns = dict(zip(old_col_name, new_col_name)))"
   ]
  },
  {
   "cell_type": "code",
   "execution_count": 123,
   "id": "b48c36f8-8d68-401b-9c67-63c6511372e7",
   "metadata": {},
   "outputs": [],
   "source": [
    "def fill_values(df):\n",
    "    df['date'] = pd.to_datetime(df['date'])\n",
    "    df['week_day']= df['date'].dt.dayofweek\n",
    "    \n",
    "    group = df.groupby(['week_day', 'time'])\n",
    "    columns = df.columns\n",
    "    \n",
    "    for column in columns:\n",
    "        df[column] = df[column].fillna(group[column].transform('mean'))\n",
    "\n",
    "    return df"
   ]
  },
  {
   "cell_type": "code",
   "execution_count": 124,
   "id": "122f338f-0f2f-4990-aa19-e542347f4dc6",
   "metadata": {},
   "outputs": [],
   "source": [
    "jacarepagua = fill_values(jacarepagua)\n",
    "mirante = fill_values(mirante)\n",
    "pampulha = fill_values(pampulha)"
   ]
  },
  {
   "cell_type": "code",
   "execution_count": 125,
   "id": "20f2d9ce-4233-4fe6-8b38-7d802da62f15",
   "metadata": {},
   "outputs": [],
   "source": [
    "met_concat = pd.concat([jacarepagua, mirante, pampulha])\n",
    "mean_met = met_concat.groupby(['date', 'time']).mean().reset_index()"
   ]
  },
  {
   "cell_type": "code",
   "execution_count": 126,
   "id": "54c8fc10-84f4-432a-8af2-f0785d8ba153",
   "metadata": {},
   "outputs": [],
   "source": [
    "jacarepagua.to_csv('data/clean/met_jacarepagua.csv', index=False)\n",
    "mirante.to_csv('data/clean/met_mirante.csv', index=False)\n",
    "pampulha.to_csv('data/clean/met_pampulha.csv', index=False)\n",
    "mean_met.to_csv('data/clean/mean_met.csv', index=False)"
   ]
  },
  {
   "cell_type": "code",
   "execution_count": null,
   "id": "04717c8e-d92a-493c-9ada-b79dd4afbcc8",
   "metadata": {},
   "outputs": [],
   "source": []
  }
 ],
 "metadata": {
  "kernelspec": {
   "display_name": "Python 3 (ipykernel)",
   "language": "python",
   "name": "python3"
  },
  "language_info": {
   "codemirror_mode": {
    "name": "ipython",
    "version": 3
   },
   "file_extension": ".py",
   "mimetype": "text/x-python",
   "name": "python",
   "nbconvert_exporter": "python",
   "pygments_lexer": "ipython3",
   "version": "3.13.7"
  }
 },
 "nbformat": 4,
 "nbformat_minor": 5
}
